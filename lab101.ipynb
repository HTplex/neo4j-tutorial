{
 "cells": [
  {
   "cell_type": "code",
   "execution_count": null,
   "id": "12cd14ff",
   "metadata": {},
   "outputs": [],
   "source": [
    "# design data model: \n",
    "\"\"\"\n",
    "people: {\n",
    "    id: string,\n",
    "    name: string,\n",
    "    age: int,\n",
    "    gender: string,\n",
    "    email: string,\n",
    "    phone: string,\n",
    "}\n",
    "movies: {\n",
    "    id: string,\n",
    "    title: string,\n",
    "    year: int,\n",
    "    genre: string,\n",
    "}\n",
    "\n",
    "people -> movies: {\n",
    "    person_id: string,\n",
    "    movie_id: string,\n",
    "    rating: int,\n",
    "    timestamp: string,\n",
    "}\n",
    "\n",
    "\n",
    "\"\"\""
   ]
  },
  {
   "cell_type": "code",
   "execution_count": 2,
   "id": "5829004d",
   "metadata": {},
   "outputs": [
    {
     "name": "stdout",
     "output_type": "stream",
     "text": [
      "Connection to Neo4j database successful!\n"
     ]
    }
   ],
   "source": [
    "# init instance model\n",
    "\n",
    "from neo4j import GraphDatabase\n",
    "\n",
    "# Database connection configuration\n",
    "URI = \"bolt://localhost:7687\"\n",
    "AUTH = (\"neo4j\", \"neo4jneo4j\")\n",
    "\n",
    "# Create driver instance\n",
    "driver = GraphDatabase.driver(URI, auth=AUTH)\n",
    "\n",
    "# Test connection\n",
    "def test_connection():\n",
    "    try:\n",
    "        driver.verify_connectivity()\n",
    "        print(\"Connection to Neo4j database successful!\")\n",
    "    except Exception as e:\n",
    "        print(f\"Failed to connect to Neo4j database: {e}\")\n",
    "\n",
    "test_connection()\n"
   ]
  },
  {
   "cell_type": "code",
   "execution_count": 3,
   "id": "325ac037",
   "metadata": {},
   "outputs": [
    {
     "name": "stdout",
     "output_type": "stream",
     "text": [
      "Data imported successfully!\n"
     ]
    }
   ],
   "source": [
    "# init instance model\n",
    "\n",
    "cypher_query = \"\"\"\n",
    "CREATE (Apollo13:Movie {title: 'Apollo 13', tmdbID: 568, released: '1995-06-30', imdbRating: 7.6, genres: ['Drama', 'Adventure', 'IMAX']})\n",
    "CREATE (TomH:Person {name: 'Tom Hanks', tmdbID: 31, born: '1956-07-09'})\n",
    "CREATE (MegR:Person {name: 'Meg Ryan', tmdbID: 5344, born: '1961-11-19'})\n",
    "CREATE (DannyD:Person {name: 'Danny DeVito', tmdbID: 518, born: '1944-11-17'})\n",
    "CREATE (JackN:Person {name: 'Jack Nicholson', tmdbID: 514, born: '1937-04-22'})\n",
    "CREATE (SleeplessInSeattle:Movie {title: 'Sleepless in Seattle', tmdbID: 858, released: '1993-06-25', imdbRating: 6.8, genres: ['Comedy', 'Drama', 'Romance']})\n",
    "CREATE (Hoffa:Movie {title: 'Hoffa', tmdbID: 10410, released: '1992-12-25', imdbRating: 6.6, genres: ['Crime', 'Drama']})\n",
    "\"\"\"\n",
    "\n",
    "# Execute the query to import data\n",
    "try:\n",
    "    with driver.session() as session:\n",
    "        result = session.run(cypher_query)\n",
    "        print(\"Data imported successfully!\")\n",
    "except Exception as e:\n",
    "    print(f\"Failed to import data: {e}\")\n"
   ]
  },
  {
   "cell_type": "code",
   "execution_count": 16,
   "id": "656bc80b",
   "metadata": {},
   "outputs": [],
   "source": [
    "rel_query = \"\"\"\n",
    "MATCH (TomH:Person {tmdbID: 31})\n",
    "MATCH (MegR:Person {tmdbID: 5344})\n",
    "MATCH (DannyD:Person {tmdbID: 518})\n",
    "MATCH (JackN:Person {tmdbID: 514})\n",
    "\n",
    "MATCH (Apollo13:Movie {tmdbID: 568})\n",
    "MATCH (SleeplessInSeattle:Movie {tmdbID: 858})\n",
    "MATCH (Hoffa:Movie {tmdbID: 10410})\n",
    "\n",
    "MERGE (TomH)-[:ACTED_IN]->(Apollo13)\n",
    "MERGE (TomH)-[:ACTED_IN]->(SleeplessInSeattle)\n",
    "MERGE (MegR)-[:ACTED_IN]->(SleeplessInSeattle)\n",
    "MERGE (DannyD)-[:ACTED_IN]->(Hoffa)\n",
    "MERGE (DannyD)-[:DIRECTED]->(Hoffa)\n",
    "MERGE (JackN)-[:ACTED_IN]->(Hoffa);\n",
    "\"\"\"\n",
    "\n",
    "with driver.session(database=\"neo4j\") as session:\n",
    "    session.run(rel_query)  # or session.execute_write(lambda tx: tx.run(rel_query))"
   ]
  },
  {
   "cell_type": "code",
   "execution_count": 17,
   "id": "aba7b21f",
   "metadata": {},
   "outputs": [
    {
     "name": "stdout",
     "output_type": "stream",
     "text": [
      "ACTED_IN Relationships:\n",
      "----------------------------------------\n",
      "Danny DeVito acted in 'Hoffa'\n",
      "Jack Nicholson acted in 'Hoffa'\n",
      "Meg Ryan acted in 'Sleepless in Seattle'\n",
      "Tom Hanks acted in 'Apollo 13'\n",
      "Tom Hanks acted in 'Sleepless in Seattle'\n"
     ]
    }
   ],
   "source": [
    "# Query all ACTED_IN relationships\n",
    "\n",
    "cypher_query = \"\"\"\n",
    "MATCH (person:Person)-[:ACTED_IN]->(movie:Movie)\n",
    "RETURN person.name AS Actor, movie.title AS Movie\n",
    "ORDER BY person.name, movie.title\n",
    "\"\"\"\n",
    "\n",
    "# Execute the query\n",
    "try:\n",
    "    with driver.session() as session:\n",
    "        result = session.run(cypher_query)\n",
    "        print(\"ACTED_IN Relationships:\")\n",
    "        print(\"-\" * 40)\n",
    "        for record in result:\n",
    "            print(f\"{record['Actor']} acted in '{record['Movie']}'\")\n",
    "except Exception as e:\n",
    "    print(f\"Failed to query data: {e}\")\n"
   ]
  },
  {
   "cell_type": "code",
   "execution_count": 12,
   "id": "cb659499",
   "metadata": {},
   "outputs": [
    {
     "name": "stdout",
     "output_type": "stream",
     "text": [
      "All Nodes in Database:\n",
      "----------------------------------------\n",
      "Labels: Movie\n",
      "Properties: {'tmdbID': 568, 'genres': ['Drama', 'Adventure', 'IMAX'], 'imdbRating': 7.6, 'title': 'Apollo 13', 'released': '1995-06-30'}\n",
      "--------------------\n",
      "Labels: Person\n",
      "Properties: {'tmdbID': 31, 'born': '1956-07-09', 'name': 'Tom Hanks'}\n",
      "--------------------\n",
      "Labels: Person\n",
      "Properties: {'tmdbID': 5344, 'born': '1961-11-19', 'name': 'Meg Ryan'}\n",
      "--------------------\n",
      "Labels: Person\n",
      "Properties: {'tmdbID': 518, 'born': '1944-11-17', 'name': 'Danny DeVito'}\n",
      "--------------------\n",
      "Labels: Person\n",
      "Properties: {'tmdbID': 514, 'born': '1937-04-22', 'name': 'Jack Nicholson'}\n",
      "--------------------\n",
      "Labels: Movie\n",
      "Properties: {'tmdbID': 858, 'genres': ['Comedy', 'Drama', 'Romance'], 'imdbRating': 6.8, 'title': 'Sleepless in Seattle', 'released': '1993-06-25'}\n",
      "--------------------\n",
      "Labels: Movie\n",
      "Properties: {'tmdbID': 10410, 'genres': ['Crime', 'Drama'], 'imdbRating': 6.6, 'title': 'Hoffa', 'released': '1992-12-25'}\n",
      "--------------------\n"
     ]
    }
   ],
   "source": [
    "# Query all nodes in the database\n",
    "\n",
    "cypher_query = \"\"\"\n",
    "MATCH (n)\n",
    "RETURN n\n",
    "\"\"\"\n",
    "\n",
    "# Execute the query\n",
    "try:\n",
    "    with driver.session() as session:\n",
    "        result = session.run(cypher_query)\n",
    "        print(\"All Nodes in Database:\")\n",
    "        print(\"-\" * 40)\n",
    "        for record in result:\n",
    "            node = record['n']\n",
    "            labels = ':'.join(node.labels)\n",
    "            properties = dict(node)\n",
    "            print(f\"Labels: {labels}\")\n",
    "            print(f\"Properties: {properties}\")\n",
    "            print(\"-\" * 20)\n",
    "except Exception as e:\n",
    "    print(f\"Failed to query nodes: {e}\")\n"
   ]
  },
  {
   "cell_type": "code",
   "execution_count": 13,
   "id": "8aba80e7",
   "metadata": {},
   "outputs": [
    {
     "name": "stdout",
     "output_type": "stream",
     "text": [
      "All Edges in Database:\n",
      "----------------------------------------\n",
      "Edge: <Relationship element_id='5:acc9f7b3-cc38-4a48-b9c6-f3c424f88e4a:1152921504606846977' nodes=(<Node element_id='4:acc9f7b3-cc38-4a48-b9c6-f3c424f88e4a:1' labels=frozenset() properties={}>, <Node element_id='4:acc9f7b3-cc38-4a48-b9c6-f3c424f88e4a:0' labels=frozenset() properties={}>) type='ACTED_IN' properties={}>\n",
      "--------------------\n",
      "Edge: <Relationship element_id='5:acc9f7b3-cc38-4a48-b9c6-f3c424f88e4a:1152922604118474753' nodes=(<Node element_id='4:acc9f7b3-cc38-4a48-b9c6-f3c424f88e4a:1' labels=frozenset() properties={}>, <Node element_id='4:acc9f7b3-cc38-4a48-b9c6-f3c424f88e4a:0' labels=frozenset() properties={}>) type='DIRECTED' properties={}>\n",
      "--------------------\n"
     ]
    }
   ],
   "source": [
    "# query all edges in the database\n",
    "\n",
    "cypher_query = \"\"\"\n",
    "MATCH ()-[r]->()\n",
    "RETURN r\n",
    "\"\"\"\n",
    "\n",
    "# Execute the query\n",
    "try:\n",
    "    with driver.session() as session:\n",
    "        result = session.run(cypher_query)\n",
    "        print(\"All Edges in Database:\")\n",
    "        print(\"-\" * 40)\n",
    "        for record in result:\n",
    "            edge = record['r']\n",
    "            print(f\"Edge: {edge}\")\n",
    "            print(\"-\" * 20)\n",
    "except Exception as e:\n",
    "    print(f\"Failed to query edges: {e}\")"
   ]
  },
  {
   "cell_type": "code",
   "execution_count": null,
   "id": "7a26c3eb",
   "metadata": {},
   "outputs": [],
   "source": []
  }
 ],
 "metadata": {
  "kernelspec": {
   "display_name": "neo4j",
   "language": "python",
   "name": "python3"
  },
  "language_info": {
   "codemirror_mode": {
    "name": "ipython",
    "version": 3
   },
   "file_extension": ".py",
   "mimetype": "text/x-python",
   "name": "python",
   "nbconvert_exporter": "python",
   "pygments_lexer": "ipython3",
   "version": "3.10.18"
  }
 },
 "nbformat": 4,
 "nbformat_minor": 5
}
