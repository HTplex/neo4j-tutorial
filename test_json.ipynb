{
 "cells": [
  {
   "cell_type": "code",
   "execution_count": 2,
   "id": "a2d0b2c5",
   "metadata": {},
   "outputs": [
    {
     "name": "stdout",
     "output_type": "stream",
     "text": [
      "{'representative_id': 0, 'representative_text': '555576b8a124453b9826feba2757e12ce3ab4515', 'similar_items': [{'id': 0, 'text': '555576b8a124453b9826feba2757e12ce3ab4515', 'similarity': 1.0}]}\n"
     ]
    }
   ],
   "source": [
    "import json\n",
    "\n",
    "json_path = \"/Users/htplex/Downloads/arrowhead_v3_first10M_svg_groups_stage_1_step_batch_32000.json\"\n",
    "\n",
    "with open(json_path, 'r') as file:\n",
    "    data = json.load(file)\n",
    "\n",
    "print(data[0])\n"
   ]
  },
  {
   "cell_type": "code",
   "execution_count": 6,
   "id": "aee2bbae",
   "metadata": {},
   "outputs": [
    {
     "name": "stdout",
     "output_type": "stream",
     "text": [
      "Total number of similar_items: 1022102\n",
      "Total number of groups: 29584\n",
      "Total number of unique similar items: 1022102\n"
     ]
    },
    {
     "data": {
      "image/png": "[encoded data removed]",
      "text/plain": [
       "<Figure size 720x432 with 1 Axes>"
      ]
     },
     "metadata": {
      "needs_background": "light"
     },
     "output_type": "display_data"
    },
    {
     "name": "stdout",
     "output_type": "stream",
     "text": [
      "Min similar items in a group: 1\n",
      "Max similar items in a group: 16384\n",
      "Average similar items per group: 34.55\n",
      "Average similar items per group: 34.55\n"
     ]
    }
   ],
   "source": [
    "total_similar_items = sum(len(x['similar_items']) for x in data)\n",
    "print(f\"Total number of similar_items: {total_similar_items}\")\n",
    "print(f\"Total number of groups: {len(data)}\")\n",
    "# Count unique similar items by collecting all unique IDs\n",
    "unique_similar_item_ids = set()\n",
    "for group in data:\n",
    "    for item in group['similar_items']:\n",
    "        unique_similar_item_ids.add(item['id'])\n",
    "\n",
    "print(f\"Total number of unique similar items: {len(unique_similar_item_ids)}\")\n",
    "\n",
    "# Create histogram of similar item count per group\n",
    "import matplotlib.pyplot as plt\n",
    "import numpy as np\n",
    "\n",
    "similar_item_counts = [len(group['similar_items']) for group in data]\n",
    "\n",
    "plt.figure(figsize=(10, 6))\n",
    "plt.hist(similar_item_counts, bins=np.logspace(0, np.log10(max(similar_item_counts)), 50), edgecolor='black', alpha=0.7)\n",
    "plt.xlabel('Number of Similar Items per Group')\n",
    "plt.ylabel('Frequency')\n",
    "plt.title('Histogram of Similar Item Count per Group')\n",
    "plt.xscale('log')\n",
    "plt.yscale('log')\n",
    "plt.grid(True, alpha=0.3)\n",
    "plt.show()\n",
    "\n",
    "print(f\"Min similar items in a group: {min(similar_item_counts)}\")\n",
    "print(f\"Max similar items in a group: {max(similar_item_counts)}\")\n",
    "print(f\"Average similar items per group: {sum(similar_item_counts) / len(similar_item_counts):.2f}\")\n",
    "\n",
    "print(f\"Average similar items per group: {sum(similar_item_counts) / len(similar_item_counts):.2f}\")\n",
    "\n",
    "\n",
    "\n",
    "\n"
   ]
  },
  {
   "cell_type": "code",
   "execution_count": null,
   "id": "0d869f3c",
   "metadata": {},
   "outputs": [],
   "source": []
  }
 ],
 "metadata": {
  "kernelspec": {
   "display_name": "cv",
   "language": "python",
   "name": "python3"
  },
  "language_info": {
   "codemirror_mode": {
    "name": "ipython",
    "version": 3
   },
   "file_extension": ".py",
   "mimetype": "text/x-python",
   "name": "python",
   "nbconvert_exporter": "python",
   "pygments_lexer": "ipython3",
   "version": "3.9.7"
  }
 },
 "nbformat": 4,
 "nbformat_minor": 5
}
